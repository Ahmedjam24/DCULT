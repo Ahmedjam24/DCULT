{
 "cells": [
  {
   "cell_type": "code",
   "execution_count": 3,
   "metadata": {},
   "outputs": [],
   "source": [
    "import pandas as pd"
   ]
  },
  {
   "cell_type": "code",
   "execution_count": 69,
   "metadata": {},
   "outputs": [
    {
     "name": "stderr",
     "output_type": "stream",
     "text": [
      "C:\\Users\\Ahmed\\Anaconda3\\lib\\site-packages\\IPython\\core\\interactiveshell.py:3057: DtypeWarning: Columns (14) have mixed types. Specify dtype option on import or set low_memory=False.\n",
      "  interactivity=interactivity, compiler=compiler, result=result)\n"
     ]
    }
   ],
   "source": [
    "dp=pd.read_csv(\"E:\\\\altimetric\\\\BPD_Arrests.csv\")"
   ]
  },
  {
   "cell_type": "code",
   "execution_count": 106,
   "metadata": {},
   "outputs": [
    {
     "data": {
      "text/plain": [
       "24.0"
      ]
     },
     "execution_count": 106,
     "metadata": {},
     "output_type": "execute_result"
    }
   ],
   "source": [
    "age=dp.groupby(\"Age\").count()\n",
    "max_arrest=max(age[\"Arrest\"])\n",
    "min_arrest=min(age[\"Arrest\"])\n",
    "age.reset_index(inplace=True)\n",
    "dp1=age.set_index('Arrest')\n",
    "dp1.loc[max_arrest]['Age']"
   ]
  },
  {
   "cell_type": "code",
   "execution_count": 107,
   "metadata": {},
   "outputs": [
    {
     "data": {
      "text/plain": [
       "Arrest\n",
       "1     82.0\n",
       "1     85.0\n",
       "1     87.0\n",
       "1     88.0\n",
       "1    100.0\n",
       "Name: Age, dtype: float64"
      ]
     },
     "execution_count": 107,
     "metadata": {},
     "output_type": "execute_result"
    }
   ],
   "source": [
    "dp1.loc[min_arrest]['Age']"
   ]
  },
  {
   "cell_type": "code",
   "execution_count": 108,
   "metadata": {},
   "outputs": [
    {
     "data": {
      "text/plain": [
       "'13:00'"
      ]
     },
     "execution_count": 108,
     "metadata": {},
     "output_type": "execute_result"
    }
   ],
   "source": [
    "hour=dp.groupby(\"ArrestTime\").count()\n",
    "max_arrest_h=max(hour[\"Arrest\"])\n",
    "min_arrest_h=min(hour[\"Arrest\"])\n",
    "hour.reset_index(inplace=True)\n",
    "dp1=hour.set_index(\"Arrest\")\n",
    "dp1.loc[max_arrest_h][\"ArrestTime\"]"
   ]
  },
  {
   "cell_type": "code",
   "execution_count": 109,
   "metadata": {},
   "outputs": [
    {
     "data": {
      "text/plain": [
       "'05:59'"
      ]
     },
     "execution_count": 109,
     "metadata": {},
     "output_type": "execute_result"
    }
   ],
   "source": [
    "dp1.loc[min_arrest_h]['ArrestTime']"
   ]
  },
  {
   "cell_type": "code",
   "execution_count": 118,
   "metadata": {},
   "outputs": [
    {
     "data": {
      "text/plain": [
       "0           Unknown Offense\n",
       "1               87NARCOTICS\n",
       "2          4ECOMMON ASSAULT\n",
       "3        97SEARCH & SEIZURE\n",
       "4            54ARMED PERSON\n",
       "5       4CAGG. ASSLT.- OTH.\n",
       "6    87ONARCOTICS (OUTSIDE)\n",
       "7    6CLARCENY- SHOPLIFTING\n",
       "8        4BAGG. ASSLT.- CUT\n",
       "9           24TOWED VEHICLE\n",
       "Name: IncidentOffense, dtype: object"
      ]
     },
     "execution_count": 118,
     "metadata": {},
     "output_type": "execute_result"
    }
   ],
   "source": [
    "off=dp.groupby(\"IncidentOffense\").count()\n",
    "off=off.sort_values('Arrest',ascending=False)\n",
    "off.reset_index(inplace=True)\n",
    "off[0:10]['IncidentOffense']"
   ]
  },
  {
   "cell_type": "code",
   "execution_count": null,
   "metadata": {},
   "outputs": [],
   "source": []
  }
 ],
 "metadata": {
  "kernelspec": {
   "display_name": "Python 3",
   "language": "python",
   "name": "python3"
  },
  "language_info": {
   "codemirror_mode": {
    "name": "ipython",
    "version": 3
   },
   "file_extension": ".py",
   "mimetype": "text/x-python",
   "name": "python",
   "nbconvert_exporter": "python",
   "pygments_lexer": "ipython3",
   "version": "3.7.3"
  }
 },
 "nbformat": 4,
 "nbformat_minor": 2
}
